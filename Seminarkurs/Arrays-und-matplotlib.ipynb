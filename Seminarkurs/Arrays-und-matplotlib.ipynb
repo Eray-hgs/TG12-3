{
 "cells": [
  {
   "cell_type": "markdown",
   "id": "0ad9ca4f",
   "metadata": {},
   "source": [
    "# Datentypen\n",
    "\n",
    "## 1.1 Listen\n",
    "\n",
    "Eine Liste ist eine Aneinanderreihung von beliebigen Pythonobjekten. Einige Eigenschaften von Listen lernst Du\n",
    "kennen, wenn Du folgendes Programm ausführst:"
   ]
  },
  {
   "cell_type": "code",
   "execution_count": 184,
   "id": "e6c6320f",
   "metadata": {},
   "outputs": [
    {
     "name": "stdout",
     "output_type": "stream",
     "text": [
      "<class 'list'>\n",
      "[1, 2.0, 'Klaus']\n",
      "Das  1 . Element der Liste ist 2.0\n",
      "[1, 'Peter', 'Klaus']\n",
      "[1, 'Peter', 'Klaus', 7]\n",
      "Liste ohne Peter: [1, 'Klaus', 7]\n",
      "Die Liste hat 3 Elemente\n"
     ]
    }
   ],
   "source": [
    "lst=[1,2.0,'Klaus']\n",
    "print(type(lst))\n",
    "print(lst)\n",
    "i=1\n",
    "print('Das ',i,'. Element der Liste ist',lst[1])\n",
    "lst[1]='Peter'\n",
    "print(lst)\n",
    "#der Liste kann man Elemente hinzufügen:\n",
    "lst.append(7)\n",
    "print(lst)\n",
    "#man kann auch ein Element rauslöschen, etwa Peter\n",
    "del lst[1]\n",
    "print('Liste ohne Peter:',lst)\n",
    "#Die Anzahl der Elemente in einer Liste erhält man so:\n",
    "l=len(lst)\n",
    "print('Die Liste hat',l,'Elemente')"
   ]
  },
  {
   "cell_type": "markdown",
   "id": "1db082da",
   "metadata": {},
   "source": [
    "Beachte: Die Objekte in einer Liste k¨onnen einen Typ haben: integer (wie 1 unserem Beispiel) , string (wie Klaus),\n",
    "float (wie 2.0),..."
   ]
  },
  {
   "cell_type": "markdown",
   "id": "044ed4ad",
   "metadata": {},
   "source": [
    "## 1.2 Arrays\n",
    "\n",
    "Listen sind praktisch. Aber sie haben eine Nachteil: Man kann mit ihnen nicht so gut Mathematik treiben. Für\n",
    "Mathematik, Physik, Technik ... benötigen wir das Modul NumPy. NumPy ist ein Python-Modul, mit dem du\n",
    "effizient mit großen Zahlenmengen, Tabellen und mathematischen Berechnungen arbeiten kannst – praktisch, wenn\n",
    "Du physikalische Simulationen durchfühhren möchtest.\n",
    "Den wichtigsten Datentyp in Numpy stellt das Array dar. Eine Array ist so ähnlich wie eine Liste, mit dem großen\n",
    "Unterschied, dass bei einem Array alle Elemente von gleichen Datentyp sein müssen.\n",
    "\n",
    "\n",
    "Beispiel: Stell dir vor, du willst die Noten deiner Freunde in Mathe speichern: 2, 3, 1, 4, 2. Mit einem Array kannst\n",
    "du das so machen:\n"
   ]
  },
  {
   "cell_type": "code",
   "execution_count": 185,
   "id": "58631d91",
   "metadata": {},
   "outputs": [],
   "source": [
    "import numpy as np\n",
    "noten = np.array([2, 3, 1, 4, 2])"
   ]
  },
  {
   "cell_type": "markdown",
   "id": "2757bf49",
   "metadata": {},
   "source": [
    "Jetzt hast du alle Noten in einer einzigen Variable gespeichert - wie in einem Notizbuch mit nummerierten Seiten.\n",
    "Du kannst z.B. die erste Note abrufen mit:"
   ]
  },
  {
   "cell_type": "code",
   "execution_count": 186,
   "id": "e75f8e32",
   "metadata": {},
   "outputs": [
    {
     "name": "stdout",
     "output_type": "stream",
     "text": [
      "2\n"
     ]
    }
   ],
   "source": [
    "print(noten[0]) # Ausgabe: 2\n"
   ]
  },
  {
   "cell_type": "markdown",
   "id": "fd9c6743",
   "metadata": {},
   "source": [
    "Oder den Durchschnitt berechnen:"
   ]
  },
  {
   "cell_type": "code",
   "execution_count": 187,
   "id": "a2f37613",
   "metadata": {},
   "outputs": [
    {
     "name": "stdout",
     "output_type": "stream",
     "text": [
      "2.4\n"
     ]
    }
   ],
   "source": [
    "print(np.mean(noten)) # Ausgabe: 2.4"
   ]
  },
  {
   "cell_type": "markdown",
   "id": "50ae1cb0",
   "metadata": {},
   "source": [
    "Das war ein Beispiel für Mathematik mit arrays!\n",
    "Praktisch sind arrays auch für Funktionen:\n"
   ]
  },
  {
   "cell_type": "code",
   "execution_count": 188,
   "id": "ca869ee8",
   "metadata": {},
   "outputs": [
    {
     "name": "stdout",
     "output_type": "stream",
     "text": [
      "[9 1 0 1 4]\n"
     ]
    }
   ],
   "source": [
    "x=np.array([-3,-1,0,-1,2])\n",
    "y=x*x\n",
    "print(y)\n"
   ]
  },
  {
   "cell_type": "markdown",
   "id": "7604bf3e",
   "metadata": {},
   "source": [
    "Jetzt hast Du in einem Rutsch alle Elemente von x quadriert.\n",
    "Passiert, wenn Du"
   ]
  },
  {
   "cell_type": "code",
   "execution_count": 189,
   "id": "c825037e",
   "metadata": {},
   "outputs": [
    {
     "name": "stdout",
     "output_type": "stream",
     "text": [
      "[-2  0  1  0  3]\n",
      "[-6 -2  0 -2  4]\n"
     ]
    }
   ],
   "source": [
    "x=np.array([-3,-1,0,-1,2])\n",
    "y=x+1\n",
    "print(y)\n",
    "#oder\n",
    "y2=x*2\n",
    "print(y2)\n"
   ]
  },
  {
   "cell_type": "markdown",
   "id": "007d752d",
   "metadata": {},
   "source": [
    "machst?\n",
    "\n",
    "Vielleicht ist Dir aufgefallen, dass Du ein array erzeugt hast, indem Du die Liste [−3, −1, 0, −1, 2] in ein Array\n",
    "umgewandelt hast. Das macht man oft, es gibt aber noch andere Möglichkeiten (siehe unten).\n",
    "Erst noch ein paar nützliche Array-Befehle:\n"
   ]
  },
  {
   "cell_type": "code",
   "execution_count": 190,
   "id": "5967b9b5",
   "metadata": {},
   "outputs": [
    {
     "name": "stdout",
     "output_type": "stream",
     "text": [
      "[1. 2. 3. 4. 5. 6.]\n",
      "6\n",
      "Das  0 .Elemente ist 1.0\n",
      "Das  3 .Elemente ist 4.0\n",
      "Datentyp: float64\n"
     ]
    }
   ],
   "source": [
    "#erzeugen aus eine Liste\n",
    "a=np.array([1.0,2.0,3.0,4.0,5.0,6.0])\n",
    "print(a)\n",
    "#Die Anzahl der Elemente erh¨alt man so:\n",
    "s=a.size\n",
    "print(s)\n",
    "i=0\n",
    "print('Das ',i,'.Elemente ist',a[i])\n",
    "i=3\n",
    "print('Das ',i,'.Elemente ist',a[i])\n",
    "#wichtig ist auch der Datentyp:\n",
    "print('Datentyp:',a.dtype)\n"
   ]
  },
  {
   "cell_type": "markdown",
   "id": "b44da33e",
   "metadata": {},
   "source": [
    "Beim Datentyp muss man aufpassen: Wenn man das Array aus einer Liste erzeugt, so versucht NumPy, den Datentyp\n",
    "des Arrays aus den in der Liste enthaltenen Daten abzuleiten. Sieh hier:\n"
   ]
  },
  {
   "cell_type": "code",
   "execution_count": 191,
   "id": "41de1d06",
   "metadata": {},
   "outputs": [
    {
     "name": "stdout",
     "output_type": "stream",
     "text": [
      "int64\n",
      "float64\n",
      "[ 1  2 42]\n",
      "[ 1.   2.  42.7]\n",
      "int64\n",
      "float64\n"
     ]
    }
   ],
   "source": [
    "import numpy as np\n",
    "a=np.array([1,2,3])\n",
    "b=np.array([1.0,2,4])\n",
    "# Pruefe mit a.dtype und b.dtype den Datentyp\n",
    "print(a.dtype)\n",
    "print(b.dtype)\n",
    "# a=a.astype(float)\n",
    "a[2]=42.7\n",
    "b[2]=42.7\n",
    "\n",
    "print(a)\n",
    "print(b)\n",
    "\n",
    "print(a.dtype)\n",
    "print(b.dtype)  \n",
    "#gemein, gemein...\n"
   ]
  },
  {
   "cell_type": "markdown",
   "id": "c40ae2fe",
   "metadata": {},
   "source": [
    "Was ist daran eigentlich gemein? Falls man nur integer daten hat kann man nicht direkt eine float zur array hinzufügen, denn numpy leitet sich die Datentypen im Array ab"
   ]
  },
  {
   "cell_type": "markdown",
   "id": "f3ba0b2a",
   "metadata": {},
   "source": [
    "Erzeugen von Arrays In den bisherigen Beispielen wurde ein Array immer aus einer Liste erzeugt. Es gibt noch\n",
    "andere Möglichkeiten:"
   ]
  },
  {
   "cell_type": "code",
   "execution_count": 192,
   "id": "ec7ebabc",
   "metadata": {},
   "outputs": [
    {
     "name": "stdout",
     "output_type": "stream",
     "text": [
      "1. [ 1  3  5  7  9 11 13 15 17 19]\n",
      "2. [ 4  7 10 13 16]\n",
      "3. [ 1.  6. 11. 16. 21.]\n",
      "4. [ 4.    7.25 10.5  13.75 17.  ]\n",
      "[0. 0. 0. 0. 0. 0. 0. 0. 0. 0.]\n",
      "[1. 1. 1. 1. 1. 1. 1. 1. 1. 1. 1. 1. 1. 1. 1. 1. 1. 1. 1. 1. 1. 1. 1. 1.\n",
      " 1. 1. 1. 1. 1. 1. 1. 1. 1. 1. 1. 1. 1. 1. 1. 1. 1. 1. 1. 1. 1. 1. 1. 1.\n",
      " 1. 1. 1. 1. 1. 1. 1. 1. 1. 1. 1. 1. 1. 1. 1. 1. 1. 1. 1. 1. 1. 1. 1. 1.\n",
      " 1. 1. 1. 1. 1. 1. 1. 1. 1. 1. 1. 1. 1. 1. 1. 1. 1. 1. 1. 1. 1. 1. 1. 1.\n",
      " 1. 1. 1. 1.]\n",
      "[10. 10. 10. 10. 10. 10. 10. 10. 10. 10. 10. 10. 10. 10. 10. 10. 10. 10.\n",
      " 10. 10. 10. 10. 10. 10. 10. 10. 10. 10. 10. 10. 10. 10. 10. 10. 10. 10.\n",
      " 10. 10. 10. 10. 10. 10. 10. 10. 10. 10. 10. 10. 10. 10. 10. 10. 10. 10.\n",
      " 10. 10. 10. 10. 10. 10. 10. 10. 10. 10. 10. 10. 10. 10. 10. 10. 10. 10.\n",
      " 10. 10. 10. 10. 10. 10. 10. 10. 10. 10. 10. 10. 10. 10. 10. 10. 10. 10.\n",
      " 10. 10. 10. 10. 10. 10. 10. 10. 10. 10.]\n",
      "[1.41421356 1.41421356 1.41421356 1.41421356 1.41421356 1.41421356\n",
      " 1.41421356 1.41421356 1.41421356 1.41421356]\n"
     ]
    }
   ],
   "source": [
    "import numpy as np\n",
    "#np.arange(Anfang,Ende,Schrittweite)\n",
    "a=np.arange(1,20,2)\n",
    "print(\"1.\",a)\n",
    "#Erzeuge mit np.arange das Array [4,7,10,13,16]\n",
    "b=np.arange(4,17,3)\n",
    "print(\"2.\",b)\n",
    "# Es geht aber auch so:\n",
    "#np.linespace(Anfang,Ende,Anzahl)\n",
    "a=np.linspace(1,21,5)\n",
    "b=np.linspace(4,17,5)\n",
    "print(\"3.\",a)\n",
    "print(\"4.\",b)\n",
    "#Wenn man nur Nuller will,kann man schreiben\n",
    "n=np.zeros(10)\n",
    "print(n)\n",
    "#einsen erhält man so\n",
    "eins=np.ones(100)\n",
    "print(eins)\n",
    "#Zehner sind dann\n",
    "zehn=eins*10\n",
    "print(zehn)\n",
    "#lauter wurzelzweier könnte man so erzeugen\n",
    "sqrt2=np.sqrt(np.ones(10)*2)\n",
    "print(sqrt2)"
   ]
  },
  {
   "cell_type": "markdown",
   "id": "19b19e36",
   "metadata": {},
   "source": [
    "Aufgabe: Erzeuge das Array t mit Elementen von einschliesslich 0 bis einschliesslich 1 mit der Schrittweite 0.1\n"
   ]
  },
  {
   "cell_type": "code",
   "execution_count": 193,
   "id": "dcd760b8",
   "metadata": {},
   "outputs": [
    {
     "name": "stdout",
     "output_type": "stream",
     "text": [
      "[0.  0.1 0.2 0.3 0.4 0.5 0.6 0.7 0.8 0.9 1. ]\n"
     ]
    }
   ],
   "source": [
    "import numpy as np\n",
    "#np.arange(Anfang,Ende,Schrittweite)\n",
    "a=np.arange(0,1.1,0.1)\n",
    "print(a)"
   ]
  },
  {
   "cell_type": "markdown",
   "id": "f69b9765",
   "metadata": {},
   "source": [
    "# 2 Graphische Ausgabe mit matplotlib\n",
    "\n",
    "In der Physik und in den Naturwissenschaften werden sehr h¨aufig Diagramm verwendet, die den Zusammenhang von\n",
    "Gr¨oßen veranschaulicht. Z.B kann man die Geschwindigkeit eines Balls gegen die Zeit auftragen. Die Bibliothek Matplotlib bietet eine riesiges Reservoir an graphischen Darstellungsm¨oglichkeiten, wir werden aber nur wenige brauchen.\n",
    "Hier findest Du ganz viele Beispiele: https://matplotlib.org/stable/gallery/index.html. Wenn ich nicht\n",
    "weiß, wie man das Diagramm erzeugt, das ich im Kopf habe, schaue ich dort noch einem Beispiel, dass ungef¨ahr so\n",
    "aus, wie ich es mir vorstelle.\n",
    "\n",
    "\n",
    "Beispiel Es soll die Polynomfunktion $f(x) = \\frac{1}{4} (x + 1)(x − 2)^3$\n",
    "im Intervall [−2, 4] dargestellt werden.\n"
   ]
  },
  {
   "cell_type": "code",
   "execution_count": 194,
   "id": "f7cfa705",
   "metadata": {},
   "outputs": [
    {
     "data": {
      "image/png": "[encoded data removed]",
      "text/plain": [
       "<Figure size 640x480 with 1 Axes>"
      ]
     },
     "metadata": {},
     "output_type": "display_data"
    }
   ],
   "source": [
    "import numpy as np\n",
    "import matplotlib.pyplot as plt\n",
    "#Festlegen der x-Werte\n",
    "x=np.arange(-2,4,0.1)\n",
    "#Berechung der y-Werte f¨ur f(x)\n",
    "y=0.25*(x+1)*(x-2)**3\n",
    "#Jetzt wird eine Figur erzeugt. D.h. man erzeugt ein neues Fenster\n",
    "fig=plt.figure()\n",
    "#in dieses Fenster k¨onnen verschiedene Diagramme angeordnet werden. Mit diesem Befehl erzeugt man ein\n",
    "#ein Koordinatensystem\n",
    "ax=fig.add_subplot(1,1,1)\n",
    "ax.plot(x,y)\n",
    "ax.set_xlabel('x')\n",
    "ax.set_ylabel('y')\n",
    "ax.grid(True)\n",
    "plt.show()\n"
   ]
  },
  {
   "cell_type": "code",
   "execution_count": null,
   "id": "19ae2906",
   "metadata": {},
   "outputs": [],
   "source": [
    "# Achsenbereich festlegen\n",
    "ax.set_xlim(-1.5, 4) # X-Achse von -1.5 bis 4\n",
    "ax.set_ylim(-3, 5) # Y-Achse von -3 bis 5\n"
   ]
  }
 ],
 "metadata": {
  "kernelspec": {
   "display_name": "Python 3",
   "language": "python",
   "name": "python3"
  },
  "language_info": {
   "codemirror_mode": {
    "name": "ipython",
    "version": 3
   },
   "file_extension": ".py",
   "mimetype": "text/x-python",
   "name": "python",
   "nbconvert_exporter": "python",
   "pygments_lexer": "ipython3",
   "version": "3.12.1"
  }
 },
 "nbformat": 4,
 "nbformat_minor": 5
}
