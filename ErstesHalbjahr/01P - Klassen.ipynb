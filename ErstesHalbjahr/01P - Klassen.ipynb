{
  "cells": [
    {
      "cell_type": "markdown",
      "metadata": {},
      "source": [
        "### Übung zu Klassen und Objekte\n",
        "Ergänzen und Testen Sie die Klasse ListStatistik."
      ]
    },
    {
      "cell_type": "code",
      "execution_count": null,
      "metadata": {},
      "outputs": [],
      "source": [
        "class ListStatistik:\n",
        "    \n",
        "    # Die __init__-Methode nimmt eine Liste von Zahlen entgegen.\n",
        "    def __init__(self, data_list):\n",
        "        self.data_list = data_list\n",
        "\n",
        "    \n",
        "    # ermittelt den größten Wert aus der Liste    \n",
        "    def list_max(self):\n",
        "        self.list_max = max(self.data_list)\n",
        "        return self.list_max\n",
        "    \n",
        "    # ermittelt den kleinsten Wert aus der Liste\n",
        "    def list_min(self):\n",
        "        self.list_min = min(self.data_list)\n",
        "        return self.list_min\n",
        "    \n",
        "    # ermittelt die Summe aller Elemente aus der Liste\n",
        "    def list_sum(self):\n",
        "        self.list_sum = sum(self.data_list)\n",
        "        return self.list_sum\n",
        "    \n",
        "    # ermittelt den Mittelwert aller Elemente aus der Liste\n",
        "    def list_mean(self):\n",
        "        self.list_mean = sum(self.data_list) / len(self.data_list)\n",
        "        return self.list_mean\n",
        "    \n",
        "    # ermittelt den Median aller Elemente aus der Liste\n",
        "    # D.h. Alle Werte werden der Größe nach sortiert.\n",
        "    # Bei ungerader Anzahl von Elementen wird das mittlere aller Elemente zurück gegeben\n",
        "    # Bei gerader Anzahl von Elementen wird der Mittelwert der beiden mittleren Elemente zurück gegeben.\n",
        "    def list_median(self):\n",
        "        numbers_sorted = sorted(self.data_list)\n",
        "        n = len(numbers_sorted)\n",
        "        mid = n // 2\n",
        "        \n",
        "        if n % 2 == 0:  # Gerade Anzahl von Elementen\n",
        "            self.list_median = (numbers_sorted[mid - 1] + numbers_sorted[mid]) / 2\n",
        "        else:  # Ungerade Anzahl von Elementen\n",
        "            self.list_median = numbers_sorted[mid]\n",
        "        \n",
        "        return self.list_median\n",
        "       "
      ]
    },
    {
      "cell_type": "code",
      "execution_count": null,
      "metadata": {},
      "outputs": [
        {
          "name": "stdout",
          "output_type": "stream",
          "text": [
            "[]\n",
            "[]\n"
          ]
        },
        {
          "ename": "ValueError",
          "evalue": "max() iterable argument is empty",
          "output_type": "error",
          "traceback": [
            "\u001b[31m---------------------------------------------------------------------------\u001b[39m",
            "\u001b[31mValueError\u001b[39m                                Traceback (most recent call last)",
            "\u001b[36mCell\u001b[39m\u001b[36m \u001b[39m\u001b[32mIn[13]\u001b[39m\u001b[32m, line 8\u001b[39m\n\u001b[32m      5\u001b[39m \u001b[38;5;28mprint\u001b[39m(numbers_sorted)               \u001b[38;5;66;03m# [-23, -5, 1, 7, 12, 19]\u001b[39;00m\n\u001b[32m      7\u001b[39m ls = ListStatistik(numbers)\n\u001b[32m----> \u001b[39m\u001b[32m8\u001b[39m \u001b[38;5;28mprint\u001b[39m(\u001b[33m\"\u001b[39m\u001b[33mMax: \u001b[39m\u001b[33m\"\u001b[39m, \u001b[43mls\u001b[49m\u001b[43m.\u001b[49m\u001b[43mlist_max\u001b[49m\u001b[43m(\u001b[49m\u001b[43m)\u001b[49m)       \u001b[38;5;66;03m# Max:  19\u001b[39;00m\n\u001b[32m      9\u001b[39m \u001b[38;5;28mprint\u001b[39m(\u001b[33m\"\u001b[39m\u001b[33mMin: \u001b[39m\u001b[33m\"\u001b[39m, ls.list_min())       \u001b[38;5;66;03m# Min:  -23\u001b[39;00m\n\u001b[32m     10\u001b[39m \u001b[38;5;28mprint\u001b[39m(\u001b[33m\"\u001b[39m\u001b[33mSum: \u001b[39m\u001b[33m\"\u001b[39m, ls.list_sum())       \u001b[38;5;66;03m# Sum:  11\u001b[39;00m\n",
            "\u001b[36mCell\u001b[39m\u001b[36m \u001b[39m\u001b[32mIn[11]\u001b[39m\u001b[32m, line 10\u001b[39m, in \u001b[36mListStatistik.list_max\u001b[39m\u001b[34m(self)\u001b[39m\n\u001b[32m      9\u001b[39m \u001b[38;5;28;01mdef\u001b[39;00m\u001b[38;5;250m \u001b[39m\u001b[34mlist_max\u001b[39m(\u001b[38;5;28mself\u001b[39m):\n\u001b[32m---> \u001b[39m\u001b[32m10\u001b[39m     \u001b[38;5;28mself\u001b[39m.list_max = \u001b[38;5;28;43mmax\u001b[39;49m\u001b[43m(\u001b[49m\u001b[38;5;28;43mself\u001b[39;49m\u001b[43m.\u001b[49m\u001b[43mdata_list\u001b[49m\u001b[43m)\u001b[49m\n\u001b[32m     11\u001b[39m     \u001b[38;5;28;01mreturn\u001b[39;00m \u001b[38;5;28mself\u001b[39m.list_max\n",
            "\u001b[31mValueError\u001b[39m: max() iterable argument is empty"
          ]
        }
      ],
      "source": [
        "numbers = [1, 12, -5, -23, 19,7]\n",
        "print(numbers)                      # [1, 12, -5, -23, 19, 7]\n",
        "numbers_sorted = numbers.copy()     # Kopie mit allen Elementen\n",
        "numbers_sorted.sort()\n",
        "print(numbers_sorted)               # [-23, -5, 1, 7, 12, 19]\n",
        "\n",
        "ls = ListStatistik(numbers)\n",
        "print(\"Max: \", ls.list_max())       # Max:  19\n",
        "print(\"Min: \", ls.list_min())       # Min:  -23\n",
        "print(\"Sum: \", ls.list_sum())       # Sum:  11\n",
        "print(\"Mean: \", ls.list_mean())     # Mean:  1.8333333333333333\n",
        "print(\"Median: \", ls.list_median()) # Median:  4.0"
      ]
    }
  ],
  "metadata": {
    "kernel_info": {
      "name": "python"
    },
    "kernelspec": {
      "display_name": "Python 3",
      "language": "python",
      "name": "python3"
    },
    "language_info": {
      "codemirror_mode": {
        "name": "ipython",
        "version": 3
      },
      "file_extension": ".py",
      "mimetype": "text/x-python",
      "name": "python",
      "nbconvert_exporter": "python",
      "pygments_lexer": "ipython3",
      "version": "3.12.1"
    },
    "nteract": {
      "version": "nteract-front-end@1.0.0"
    }
  },
  "nbformat": 4,
  "nbformat_minor": 4
}
